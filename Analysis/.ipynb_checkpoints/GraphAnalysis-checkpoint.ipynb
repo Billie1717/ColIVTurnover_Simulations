{
 "cells": [
  {
   "cell_type": "code",
   "execution_count": 4,
   "id": "b6862e67-40aa-4246-98e5-9ddb71591b83",
   "metadata": {},
   "outputs": [],
   "source": [
    "import sys\n",
    "import pandas\n",
    "sys.path.append(\"..\")\n",
    "import numpy as np\n",
    "import matplotlib.pyplot as plt\n",
    "import warnings\n",
    "from numpy import random\n",
    "from numpy import diff\n",
    "import os\n",
    "warnings.filterwarnings('ignore')\n",
    "cmap = plt.get_cmap('twilight')\n",
    "\n",
    "sys.setrecursionlimit(10000) "
   ]
  },
  {
   "cell_type": "code",
   "execution_count": 5,
   "id": "6055ec79-804a-4de0-9f93-d45a4b8cc275",
   "metadata": {},
   "outputs": [],
   "source": [
    "def dfs(graph, start, visited):\n",
    "    visited.add(start)\n",
    "    count = 1  # Count the starting node\n",
    "    for neighbor in graph[start]:\n",
    "        if neighbor not in visited:\n",
    "            count += dfs(graph, neighbor, visited)  # Add count from neighbors\n",
    "    return count\n",
    "\n",
    "def build_graph(edges):\n",
    "    graph = {}\n",
    "    for edge in edges:\n",
    "        a, b = edge\n",
    "        if a not in graph:\n",
    "            graph[a] = []\n",
    "        if b not in graph:\n",
    "            graph[b] = []\n",
    "        graph[a].append(b)\n",
    "        graph[b].append(a)  # Omit this line for a directed graph\n",
    "    return graph\n",
    "\n",
    "def build_graphWithTypes(edges,T):\n",
    "    graph = {}\n",
    "    i==0\n",
    "    for edge in edges:\n",
    "        a, b, t = edge\n",
    "        if a not in graph:\n",
    "            graph[a] = []\n",
    "        if b not in graph:\n",
    "            graph[b] = []\n",
    "        if t==T:\n",
    "            graph[a].append(b)\n",
    "            graph[b].append(a)  # Omit this line for a directed graph\n",
    "    return graph\n",
    "\n",
    "def largest_connected_component(graph):\n",
    "    visited = set()\n",
    "    largest = 0\n",
    "    for node in graph:\n",
    "        if node not in visited:\n",
    "            size = dfs(graph, node, visited)\n",
    "            largest = max(largest, size)\n",
    "    return largest\n",
    "\n",
    "def is_connected(graph, nodes):\n",
    "    visited = set()\n",
    "    dfs(graph, next(iter(graph)), visited)\n",
    "    return len(visited) == len(nodes)\n",
    "\n",
    "def find_connected_components(graph, nodes):\n",
    "    visited = set()\n",
    "    num_components = 0\n",
    "    for node in nodes:\n",
    "        if node not in visited:\n",
    "            dfs(graph, node, visited)\n",
    "            num_components += 1\n",
    "    return num_components\n",
    "    \n",
    "def calculate_average_degree(graph):\n",
    "    total_degrees = sum(len(neighbors) for neighbors in graph.values())\n",
    "    num_nodes = len(graph)\n",
    "    #print(num_nodes)\n",
    "    average_degree = total_degrees / num_nodes if num_nodes else 0\n",
    "    return average_degree\n",
    "\n",
    "def calculate_average_degree7sNc1(graph):\n",
    "    total_degrees = sum(len(neighbors) for neighbors in graph.values())\n",
    "    num_nodes = len(graph)\n",
    "    #print(num_nodes)\n",
    "    average_degree = total_degrees / num_nodes if num_nodes else 0\n",
    "    return average_degree"
   ]
  },
  {
   "cell_type": "code",
   "execution_count": 8,
   "id": "f5804ef3-5d46-4116-b40d-97e41caff346",
   "metadata": {},
   "outputs": [],
   "source": [
    "my_path = '/Users/billiemeadowcroft/Dropbox/Collagen/RicardoProject/GithubCode/Analysis/example_bonds/'\n"
   ]
  },
  {
   "cell_type": "markdown",
   "id": "bf0447e7-45cf-4b7e-8f99-106d291faff9",
   "metadata": {},
   "source": [
    "# An example for fetching some properties of our networks from the lammps outputs: dumplin_bonds/bonds.run_t1.*"
   ]
  },
  {
   "cell_type": "code",
   "execution_count": 11,
   "id": "90177dfa-d03a-470a-90d5-dd19ad5f8af7",
   "metadata": {},
   "outputs": [],
   "source": [
    "foldernameBONDS = my_path\n",
    "files = [f for f in os.listdir(foldernameBONDS) if os.path.isfile(os.path.join(foldernameBONDS, f))]\n",
    "connectedsubgraphsNR = []\n",
    "timeNR = []\n",
    "LargestCompNR = []\n",
    "AvDegreeNR = []\n",
    "AvDegreeNR1 = []\n",
    "AvDegreeNR2 = []\n",
    "AvDegreeNR3 = []\n",
    "frame = 2040\n",
    "#foldernameBONDS = datadir+'runCluster_tmix1e4_tbonds1e5_tstretch1e4_trelax1e5_N_fix500_XStretch72_Nev500_ChemBond4.0_prob0.1_seed2/dumplin_bonds/'\n",
    "files = [f for f in os.listdir(foldernameBONDS) if os.path.isfile(os.path.join(foldernameBONDS, f))]\n",
    "numnodes = 6250\n",
    "# Sort the list of files\n",
    "files.sort()\n",
    "count = 0\n",
    "i=0\n",
    "for file_name in files:\n",
    "    i+1\n",
    "    file_path = os.path.join(foldernameBONDS, file_name)\n",
    "    bonds_ = pandas.read_csv(file_path, header = None,skiprows =9, usecols = [1,2], sep=' ')\n",
    "    bonds2_ = pandas.read_csv(file_path, header = None,skiprows =9, usecols = [1,2,3], sep=' ')\n",
    "    bonds = bonds_.values\n",
    "    edges = bonds  # list of edges\n",
    "    edges2 = bonds2_.values\n",
    "    graph = build_graph(edges)\n",
    "\n",
    "    nodes = np.arange(1,numnodes+1,1)  # list of nodes\n",
    "    timeNR.append(i*frame)\n",
    "    i+=1\n",
    "    connectedsubgraphsNR.append(find_connected_components(graph, nodes))\n",
    "    LargestCompNR.append(largest_connected_component(graph))\n",
    "    AvDegreeNR.append((calculate_average_degree(graph)))\n",
    "\n"
   ]
  },
  {
   "cell_type": "markdown",
   "id": "9e58c2e5-f23b-4444-80c1-264f3f817678",
   "metadata": {},
   "source": [
    "## Plotting out properties"
   ]
  },
  {
   "cell_type": "code",
   "execution_count": 15,
   "id": "bd580e99-d7bd-4f33-8787-06e47731d8dd",
   "metadata": {},
   "outputs": [
    {
     "data": {
      "image/png": "[encoded data removed]",
      "text/plain": [
       "<Figure size 720x216 with 2 Axes>"
      ]
     },
     "metadata": {
      "needs_background": "light"
     },
     "output_type": "display_data"
    }
   ],
   "source": [
    "fig,ax = plt.subplots(1,2,figsize = (10,3))\n",
    "\n",
    "ax[0].plot(timeNR,np.divide(LargestCompNR,numnodes*0.01),linewidth = 3)\n",
    "ax[1].plot(timeNR,AvDegreeNR,linewidth = 3)\n",
    "ax[0].set_ylabel(r'% largest connected cluster')\n",
    "ax[0].set_xlabel(r'time [$\\Delta t$]')\n",
    "ax[1].set_xlabel(r'time [$\\Delta t$]')\n",
    "ax[1].set_ylabel(r'Average degree per node')\n",
    "fig.tight_layout()"
   ]
  },
  {
   "cell_type": "code",
   "execution_count": null,
   "id": "74c64b01-1751-43bf-872b-e7240d4b57f5",
   "metadata": {},
   "outputs": [],
   "source": []
  }
 ],
 "metadata": {
  "kernelspec": {
   "display_name": "Python 3",
   "language": "python",
   "name": "python3"
  },
  "language_info": {
   "codemirror_mode": {
    "name": "ipython",
    "version": 3
   },
   "file_extension": ".py",
   "mimetype": "text/x-python",
   "name": "python",
   "nbconvert_exporter": "python",
   "pygments_lexer": "ipython3",
   "version": "3.8.5"
  }
 },
 "nbformat": 4,
 "nbformat_minor": 5
}
